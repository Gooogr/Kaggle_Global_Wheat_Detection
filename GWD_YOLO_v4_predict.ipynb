{
  "nbformat": 4,
  "nbformat_minor": 0,
  "metadata": {
    "kernelspec": {
      "language": "python",
      "display_name": "Python 3",
      "name": "python3"
    },
    "language_info": {
      "pygments_lexer": "ipython3",
      "nbconvert_exporter": "python",
      "version": "3.6.4",
      "file_extension": ".py",
      "codemirror_mode": {
        "name": "ipython",
        "version": 3
      },
      "name": "python",
      "mimetype": "text/x-python"
    },
    "colab": {
      "name": "GWD YOLO v4 predict.ipynb",
      "provenance": [],
      "collapsed_sections": [],
      "toc_visible": true,
      "include_colab_link": true
    },
    "accelerator": "GPU"
  },
  "cells": [
    {
      "cell_type": "markdown",
      "metadata": {
        "id": "view-in-github",
        "colab_type": "text"
      },
      "source": [
        "<a href=\"https://colab.research.google.com/github/Gooogr/Kaggle_Global_Wheat_Detection/blob/master/GWD_YOLO_v4_predict.ipynb\" target=\"_parent\"><img src=\"https://colab.research.google.com/assets/colab-badge.svg\" alt=\"Open In Colab\"/></a>"
      ]
    },
    {
      "cell_type": "code",
      "metadata": {
        "_uuid": "d629ff2d2480ee46fbb7e2d37f6b5fab8052498a",
        "_cell_guid": "79c7e3d0-c299-4dcb-8224-4455121ee9b0",
        "trusted": true,
        "id": "4qTOJMCvtl8e",
        "colab_type": "code",
        "colab": {}
      },
      "source": [
        "import gc #garbage collector\n",
        "import ast # operate with string representation of list\n",
        "import os\n",
        "import fnmatch\n",
        "import re\n",
        "\n",
        "import pandas as pd\n",
        "import numpy as np\n",
        "import cv2\n",
        "\n",
        "from google.colab import files\n",
        "from google.colab.patches import cv2_imshow"
      ],
      "execution_count": 47,
      "outputs": []
    },
    {
      "cell_type": "code",
      "metadata": {
        "id": "n9Kk0dtciixz",
        "colab_type": "code",
        "colab": {
          "base_uri": "https://localhost:8080/",
          "height": 54
        },
        "outputId": "bfe82e11-c978-45ee-f8c6-6003ce361210"
      },
      "source": [
        "from google.colab import drive\n",
        "drive.mount('/content/drive')"
      ],
      "execution_count": 48,
      "outputs": [
        {
          "output_type": "stream",
          "text": [
            "Drive already mounted at /content/drive; to attempt to forcibly remount, call drive.mount(\"/content/drive\", force_remount=True).\n"
          ],
          "name": "stdout"
        }
      ]
    },
    {
      "cell_type": "code",
      "metadata": {
        "id": "bwjxLYAklTlU",
        "colab_type": "code",
        "colab": {
          "base_uri": "https://localhost:8080/",
          "height": 34
        },
        "outputId": "5eccc0c2-e645-45f6-c1b6-7c4b09602bad"
      },
      "source": [
        "# create a symbolic sub-link to avoid 'space' problem\n",
        "!ln -s /content/drive/My\\ Drive/colab_notebooks/Kaggle_Global_Wheat_Detection/ /mydrive"
      ],
      "execution_count": 49,
      "outputs": [
        {
          "output_type": "stream",
          "text": [
            "ln: failed to create symbolic link '/mydrive/Kaggle_Global_Wheat_Detection': Operation not supported\n"
          ],
          "name": "stdout"
        }
      ]
    },
    {
      "cell_type": "code",
      "metadata": {
        "id": "qcIbCQgLZ5y6",
        "colab_type": "code",
        "colab": {
          "base_uri": "https://localhost:8080/",
          "height": 364
        },
        "outputId": "f9d8729f-a4d0-49d4-c58f-e94254a8d002"
      },
      "source": [
        "# Enable GPU\n",
        "# Check what we get: K80, P100, K4 or T4.\n",
        "! nvidia-smi"
      ],
      "execution_count": 50,
      "outputs": [
        {
          "output_type": "stream",
          "text": [
            "Sun Jul 19 13:10:34 2020       \n",
            "+-----------------------------------------------------------------------------+\n",
            "| NVIDIA-SMI 450.51.05    Driver Version: 418.67       CUDA Version: 10.1     |\n",
            "|-------------------------------+----------------------+----------------------+\n",
            "| GPU  Name        Persistence-M| Bus-Id        Disp.A | Volatile Uncorr. ECC |\n",
            "| Fan  Temp  Perf  Pwr:Usage/Cap|         Memory-Usage | GPU-Util  Compute M. |\n",
            "|                               |                      |               MIG M. |\n",
            "|===============================+======================+======================|\n",
            "|   0  Tesla P100-PCIE...  Off  | 00000000:00:04.0 Off |                    0 |\n",
            "| N/A   37C    P0    26W / 250W |      0MiB / 16280MiB |      0%      Default |\n",
            "|                               |                      |                 ERR! |\n",
            "+-------------------------------+----------------------+----------------------+\n",
            "                                                                               \n",
            "+-----------------------------------------------------------------------------+\n",
            "| Processes:                                                                  |\n",
            "|  GPU   GI   CI        PID   Type   Process name                  GPU Memory |\n",
            "|        ID   ID                                                   Usage      |\n",
            "|=============================================================================|\n",
            "|  No running processes found                                                 |\n",
            "+-----------------------------------------------------------------------------+\n"
          ],
          "name": "stdout"
        }
      ]
    },
    {
      "cell_type": "code",
      "metadata": {
        "id": "SPWq6nE_t3Yh",
        "colab_type": "code",
        "colab": {
          "resources": {
            "http://localhost:8080/nbextensions/google.colab/files.js": {
              "data": "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",
              "ok": true,
              "headers": [
                [
                  "content-type",
                  "application/javascript"
                ]
              ],
              "status": 200,
              "status_text": "OK"
            }
          },
          "base_uri": "https://localhost:8080/",
          "height": 105
        },
        "outputId": "5eced71b-f4ed-4cd7-f5cb-ac5ea45124c4"
      },
      "source": [
        "# add kaggle.json key\n",
        "files.upload()"
      ],
      "execution_count": 51,
      "outputs": [
        {
          "output_type": "display_data",
          "data": {
            "text/html": [
              "\n",
              "     <input type=\"file\" id=\"files-36d8493f-90fe-481a-b2a7-663d6e22c81c\" name=\"files[]\" multiple disabled\n",
              "        style=\"border:none\" />\n",
              "     <output id=\"result-36d8493f-90fe-481a-b2a7-663d6e22c81c\">\n",
              "      Upload widget is only available when the cell has been executed in the\n",
              "      current browser session. Please rerun this cell to enable.\n",
              "      </output>\n",
              "      <script src=\"/nbextensions/google.colab/files.js\"></script> "
            ],
            "text/plain": [
              "<IPython.core.display.HTML object>"
            ]
          },
          "metadata": {
            "tags": []
          }
        },
        {
          "output_type": "stream",
          "text": [
            "Saving kaggle.json to kaggle.json\n"
          ],
          "name": "stdout"
        },
        {
          "output_type": "execute_result",
          "data": {
            "text/plain": [
              "{'kaggle.json': b'{\"username\":\"gooogr\",\"key\":\"9984edb784f2ec4a2f5e02b2e4d12009\"}'}"
            ]
          },
          "metadata": {
            "tags": []
          },
          "execution_count": 51
        }
      ]
    },
    {
      "cell_type": "markdown",
      "metadata": {
        "id": "oiL_SDKH1wlB",
        "colab_type": "text"
      },
      "source": [
        "## Dataset downloading"
      ]
    },
    {
      "cell_type": "code",
      "metadata": {
        "id": "C4KmKccUuM6X",
        "colab_type": "code",
        "colab": {
          "base_uri": "https://localhost:8080/",
          "height": 34
        },
        "outputId": "1deb0713-4ac7-4ef5-c9cb-c8917fbc67ad"
      },
      "source": [
        " ! mkdir ~/.kaggle #inroot folder \n",
        " ! cp kaggle.json ~/.kaggle/\n",
        " ! chmod 600 ~/.kaggle/kaggle.json"
      ],
      "execution_count": 52,
      "outputs": [
        {
          "output_type": "stream",
          "text": [
            "mkdir: cannot create directory ‘/root/.kaggle’: File exists\n"
          ],
          "name": "stdout"
        }
      ]
    },
    {
      "cell_type": "code",
      "metadata": {
        "id": "k7_BbgHw0cvB",
        "colab_type": "code",
        "colab": {
          "base_uri": "https://localhost:8080/",
          "height": 34
        },
        "outputId": "c8e5826b-dcf8-4921-87b6-810c30950ee2"
      },
      "source": [
        "! kaggle -v # reinstall kaggle API to fix bugs with data downloading"
      ],
      "execution_count": 53,
      "outputs": [
        {
          "output_type": "stream",
          "text": [
            "Kaggle API 1.5.6\n"
          ],
          "name": "stdout"
        }
      ]
    },
    {
      "cell_type": "code",
      "metadata": {
        "id": "okl10cwi0d6g",
        "colab_type": "code",
        "colab": {
          "base_uri": "https://localhost:8080/",
          "height": 104
        },
        "outputId": "a6192342-e9b6-4412-fc2f-cbe469c0a44a"
      },
      "source": [
        "! pip uninstall -y kaggle\n",
        "! pip install --upgrade pip\n",
        "! pip install -q kaggle==1.5.6\n",
        "! kaggle -v"
      ],
      "execution_count": 54,
      "outputs": [
        {
          "output_type": "stream",
          "text": [
            "Found existing installation: kaggle 1.5.6\n",
            "Uninstalling kaggle-1.5.6:\n",
            "  Successfully uninstalled kaggle-1.5.6\n",
            "Requirement already up-to-date: pip in /usr/local/lib/python3.6/dist-packages (20.1.1)\n",
            "Kaggle API 1.5.6\n"
          ],
          "name": "stdout"
        }
      ]
    },
    {
      "cell_type": "code",
      "metadata": {
        "id": "vPBkOpl0vFQd",
        "colab_type": "code",
        "colab": {
          "base_uri": "https://localhost:8080/",
          "height": 69
        },
        "outputId": "6ac5d881-4cd1-4dbc-8697-17159774ac1e"
      },
      "source": [
        "! kaggle competitions download -c global-wheat-detection\n",
        "! unzip -q global-wheat-detection.zip"
      ],
      "execution_count": 55,
      "outputs": [
        {
          "output_type": "stream",
          "text": [
            "Downloading global-wheat-detection.zip to /content/darknet\n",
            " 98% 595M/607M [00:04<00:00, 125MB/s]\n",
            "100% 607M/607M [00:04<00:00, 144MB/s]\n"
          ],
          "name": "stdout"
        }
      ]
    },
    {
      "cell_type": "markdown",
      "metadata": {
        "id": "tZIL8l-Ntl85",
        "colab_type": "text"
      },
      "source": [
        "### Utilities"
      ]
    },
    {
      "cell_type": "code",
      "metadata": {
        "id": "d6GIAtE9GidI",
        "colab_type": "code",
        "colab": {}
      },
      "source": [
        "# def create_yolo_bbox(x):\n",
        "#     x, y, width, height = list(map(int, ast.literal_eval(x)))\n",
        "#     x_c = (x + width // 2) / 1024\n",
        "#     y_c = (y + height // 2) / 1024\n",
        "#     return ([x_c, y_c, (width / 1024), (height / 1024)])\n",
        "\n",
        "# def write_yolo_txt(save_dir):\n",
        "#     unique_ids = train_df['image_id'].unique()\n",
        "#     for img_id in unique_ids:\n",
        "#         df_sample = train_df[train_df['image_id'] == img_id]\n",
        "#         temp_ser = df_sample['yolo_bbox']\n",
        "\n",
        "#         file = open(os.path.join(save_dir, (img_id + \".txt\")), \"w\")\n",
        "#         for bbox in temp_ser:\n",
        "#             row = ' '.join(str(item) for item in bbox)\n",
        "#             file. write('0 ') #class number\n",
        "#             file.write(row)\n",
        "#             file.write('\\n')\n",
        "#         file.close()\n",
        "\n",
        "# def show_data_sample(dir_path):\n",
        "#   '''\n",
        "#   Show random sample from dataset with boundary box\n",
        "#   '''\n",
        "#   txt_files = []\n",
        "#   img_files = []\n",
        "#   for txt_file in os.listdir(dir_path):\n",
        "#       if fnmatch.fnmatch(txt_file, '*.txt'):\n",
        "#         txt_files.append(txt_file)\n",
        "#   print('Data pairs amount:', len(txt_files))\n",
        "\n",
        "#   sample_name = txt_files[np.random.randint(len(txt_files))].split('.')[0]\n",
        "\n",
        "#   txt_sample = open(os.path.join(dir_path, sample_name + '.txt'), 'r')\n",
        "#   img_sample = cv2.imread(os.path.join(dir_path, sample_name + '.jpg'))\n",
        "#   height = img_sample.shape[0]\n",
        "#   width = img_sample.shape[1]\n",
        "#   for line in txt_sample.readlines():\n",
        "#       #print(re.split('\\s',line)[0:5])\n",
        "#       yolo_bndbox = (list(map(float, re.split('\\s',line)[0:5])))\n",
        "#       voc_bndbox = yolo2voc(yolo_bndbox, width, height)\n",
        "#       img_sample = cv2.rectangle(img_sample, voc_bndbox[:2], voc_bndbox[2:], color=[255, 0, 0], thickness=2)\n",
        "#   img_sample = cv2.resize(img_sample, (0,0), fx=0.5, fy=0.5)  \n",
        "#   cv2_imshow(img_sample)\n",
        "\n",
        "\n",
        "# def yolo2voc(data, w, h):\n",
        "#   '''\n",
        "#   Convert boundary box from YOLO format to VOC\n",
        "#   '''\n",
        "#   bbox_width = float(data[3]) * w\n",
        "#   bbox_height = float(data[4]) * h\n",
        "#   center_x = float(data[1]) * w\n",
        "#   center_y = float(data[2]) * h\n",
        "#   x_min = int(center_x - (bbox_width / 2))\n",
        "#   y_min = int(center_y - (bbox_height / 2))\n",
        "#   x_max = int(center_x + (bbox_width / 2))\n",
        "#   y_max = int(center_y + (bbox_height / 2))\n",
        "#   return(x_min, y_min, x_max, y_max)"
      ],
      "execution_count": 56,
      "outputs": []
    },
    {
      "cell_type": "markdown",
      "metadata": {
        "id": "cF5QC1JHtl9P",
        "colab_type": "text"
      },
      "source": [
        "### Constants"
      ]
    },
    {
      "cell_type": "code",
      "metadata": {
        "trusted": true,
        "id": "zYKGf8kYtl9U",
        "colab_type": "code",
        "colab": {}
      },
      "source": [
        "MAIN_PATH = '/content/'\n",
        "TRAIN_DIR_PATH = '/content/train'\n",
        "TEST_DIR_PATH = '/content/test'"
      ],
      "execution_count": 57,
      "outputs": []
    },
    {
      "cell_type": "markdown",
      "metadata": {
        "id": "juO7awfcI7dB",
        "colab_type": "text"
      },
      "source": [
        "## Setting up YOLO Darknet"
      ]
    },
    {
      "cell_type": "code",
      "metadata": {
        "id": "6mdMIfR1OUfS",
        "colab_type": "code",
        "colab": {}
      },
      "source": [
        "def make_darknet():\n",
        "  '''\n",
        "  Run this function if darknet wasn`t setted up your root project folder\n",
        "  '''\n",
        "  # Clone and  make darknet in My Drive folder. We should prepare all config files there befory copy them to tmp\n",
        "  ! git clone https://github.com/AlexeyAB/darknet.git\n",
        "\n",
        "  # Enable GPU learning\n",
        "  %cd darknet\n",
        "  !sed -i 's/OPENCV=0/OPENCV=1/' Makefile\n",
        "  !sed -i 's/GPU=0/GPU=1/' Makefile\n",
        "  !sed -i 's/CUDNN=0/CUDNN=1/' Makefile\n",
        "  !sed -i 's/OPENMP=0/OPENMP=1/' Makefile\n",
        "\n",
        "  # verify CUDA\n",
        "  !/usr/local/cuda/bin/nvcc --version\n",
        "\n",
        "  ! make --silent"
      ],
      "execution_count": 58,
      "outputs": []
    },
    {
      "cell_type": "code",
      "metadata": {
        "id": "fje5ABOQPILR",
        "colab_type": "code",
        "colab": {}
      },
      "source": [
        "%%capture\n",
        "# Uncomment to make absense darknet from scratch \n",
        "make_darknet()"
      ],
      "execution_count": 59,
      "outputs": []
    },
    {
      "cell_type": "code",
      "metadata": {
        "id": "jPrRsmnEk0MD",
        "colab_type": "code",
        "colab": {}
      },
      "source": [
        "# Download pre-trained weights from google disk\n",
        "!cp /mydrive/yolov4_naive_final.weights /content/  #Change path to reight here\n",
        "!mv  /content/yolov4_naive_final.weights /content/yolov4_predict.weights"
      ],
      "execution_count": 60,
      "outputs": []
    },
    {
      "cell_type": "markdown",
      "metadata": {
        "id": "DG4dCTQQ-wM1",
        "colab_type": "text"
      },
      "source": [
        "### Prepare config files"
      ]
    },
    {
      "cell_type": "code",
      "metadata": {
        "id": "Imbzw4Zc_0Q4",
        "colab_type": "code",
        "colab": {
          "base_uri": "https://localhost:8080/",
          "height": 52
        },
        "outputId": "dd74a0e8-5af4-4b89-8bd8-2a43c8493245"
      },
      "source": [
        "! mkdir /content/yolo_config_files\n",
        "% cd /content/yolo_config_files"
      ],
      "execution_count": 61,
      "outputs": [
        {
          "output_type": "stream",
          "text": [
            "mkdir: cannot create directory ‘/content/yolo_config_files’: File exists\n",
            "/content/yolo_config_files\n"
          ],
          "name": "stdout"
        }
      ]
    },
    {
      "cell_type": "markdown",
      "metadata": {
        "id": "yu-dbFV8ILLj",
        "colab_type": "text"
      },
      "source": [
        "> obj.names\n",
        "\n",
        "One class - one line. If you make a mistake in the order of the labels, the algorithm will work, but will incorrectly name the detected objects."
      ]
    },
    {
      "cell_type": "code",
      "metadata": {
        "id": "j2IykedtH6_Y",
        "colab_type": "code",
        "colab": {
          "base_uri": "https://localhost:8080/",
          "height": 34
        },
        "outputId": "d101a12f-6b10-4908-c6a0-bb91c816df14"
      },
      "source": [
        "%%writefile obj.names\n",
        "Wheat head"
      ],
      "execution_count": 62,
      "outputs": [
        {
          "output_type": "stream",
          "text": [
            "Overwriting obj.names\n"
          ],
          "name": "stdout"
        }
      ]
    },
    {
      "cell_type": "markdown",
      "metadata": {
        "id": "P7bHfYwCGw7l",
        "colab_type": "text"
      },
      "source": [
        "> yolo.data\n",
        "\n",
        "Specify classes amount. Check pathes to other files:<br>\n",
        "classses = *amount of your classes*<br>\n",
        "valid  = /content/test.txt<br>\n",
        "names = /content/yolo_config_files/obj.names<br>\n",
        "backup = /content/yolo_weights<br>\n",
        "train  = /content/train.txt<br>\n",
        "\n",
        "During prediction only  ```names``` string is important."
      ]
    },
    {
      "cell_type": "code",
      "metadata": {
        "id": "dX0-6ZX1M5iG",
        "colab_type": "code",
        "colab": {
          "base_uri": "https://localhost:8080/",
          "height": 34
        },
        "outputId": "d3684a20-c414-4fc6-fa0f-d62aa7f51086"
      },
      "source": [
        "% cd /content/yolo_config_files"
      ],
      "execution_count": 63,
      "outputs": [
        {
          "output_type": "stream",
          "text": [
            "/content/yolo_config_files\n"
          ],
          "name": "stdout"
        }
      ]
    },
    {
      "cell_type": "code",
      "metadata": {
        "id": "MBrlgyI1IOPE",
        "colab_type": "code",
        "colab": {
          "base_uri": "https://localhost:8080/",
          "height": 34
        },
        "outputId": "1bf1d77f-751b-4348-a097-05d8ebf8135d"
      },
      "source": [
        "%%writefile yolo.data\n",
        "#classses = 1\n",
        "#valid = /content/test.txt\n",
        "names = /content/yolo_config_files/obj.names\n",
        "#backup = /content/yolo_weights\n",
        "#train = /content/train.txt"
      ],
      "execution_count": 64,
      "outputs": [
        {
          "output_type": "stream",
          "text": [
            "Overwriting yolo.data\n"
          ],
          "name": "stdout"
        }
      ]
    },
    {
      "cell_type": "markdown",
      "metadata": {
        "id": "YD9V4LR4KWUP",
        "colab_type": "text"
      },
      "source": [
        "> yolov4.cfg\n",
        "\n",
        "How to configure cfg file<br>\n",
        "https://github.com/AlexeyAB/darknet#how-to-train-to-detect-your-custom-objects"
      ]
    },
    {
      "cell_type": "code",
      "metadata": {
        "id": "1E14tWVHJroU",
        "colab_type": "code",
        "colab": {}
      },
      "source": [
        "# #Generate anchors for cfg file\n",
        "# # Can't open labels because of 49 files without bboxes\n",
        "# % cd /content/darknet\n",
        "# ! chmod 777 ./darknet\n",
        "# ! ./darknet detector calc_anchors \\\n",
        "# /content/yolo_config_files/yolo.data -num_of_clusters 1 -width 608 -height 608 -show\n",
        "# # Result - 50, 46"
      ],
      "execution_count": 65,
      "outputs": []
    },
    {
      "cell_type": "code",
      "metadata": {
        "id": "8G8IJbj8Ql9M",
        "colab_type": "code",
        "colab": {
          "base_uri": "https://localhost:8080/",
          "height": 34
        },
        "outputId": "842a7330-4308-46ef-bec5-414f2f4747f5"
      },
      "source": [
        "% cd /content/yolo_config_files/\n",
        "! wget --quiet https://raw.githubusercontent.com/Gooogr/Kaggle_Global_Wheat_Detection/master/yolov4-custom.cfg \\\n",
        "-O /content/yolo_config_files/yolov4.cfg"
      ],
      "execution_count": 66,
      "outputs": [
        {
          "output_type": "stream",
          "text": [
            "/content/yolo_config_files\n"
          ],
          "name": "stdout"
        }
      ]
    },
    {
      "cell_type": "markdown",
      "metadata": {
        "id": "YhdgwqMtOEWY",
        "colab_type": "text"
      },
      "source": [
        "> predict.txt\n",
        "\n",
        "File with pathes of predicting images.\n",
        "Based on this [github post](https://github.com/pjreddie/darknet/issues/723#issuecomment-383332978)"
      ]
    },
    {
      "cell_type": "code",
      "metadata": {
        "id": "xY6T_pCZOsv0",
        "colab_type": "code",
        "colab": {}
      },
      "source": [
        "def create_path_file(files_dir, save_dir):\n",
        "    %  cd /content/\n",
        "    file = open(os.path.join(save_dir, \"predict.txt\"), \"w\")\n",
        "    # from https://stackoverflow.com/questions/9816816/get-absolute-paths-of-all-files-in-a-directory\n",
        "    for root, dirs, files in os.walk(os.path.abspath(files_dir)):\n",
        "        for item in files:\n",
        "            row = os.path.join(root, item)\n",
        "            file.write(row)\n",
        "            file.write('\\n')\n",
        "    file.close()\n"
      ],
      "execution_count": 69,
      "outputs": []
    },
    {
      "cell_type": "code",
      "metadata": {
        "id": "dPFkpLEtLybF",
        "colab_type": "code",
        "colab": {
          "base_uri": "https://localhost:8080/",
          "height": 34
        },
        "outputId": "a2f851cb-0d08-44a5-ec46-f26510ccd4ec"
      },
      "source": [
        "create_path_file(files_dir='/content/test', save_dir = '/content/yolo_config_files')"
      ],
      "execution_count": 87,
      "outputs": [
        {
          "output_type": "stream",
          "text": [
            "/content\n"
          ],
          "name": "stdout"
        }
      ]
    },
    {
      "cell_type": "code",
      "metadata": {
        "id": "IAk_7SEVNYHt",
        "colab_type": "code",
        "colab": {
          "base_uri": "https://localhost:8080/",
          "height": 191
        },
        "outputId": "b8cf1288-fdc6-45fb-a73f-9db769cfaa76"
      },
      "source": [
        "! cat /content/yolo_config_files/predict.txt"
      ],
      "execution_count": 88,
      "outputs": [
        {
          "output_type": "stream",
          "text": [
            "/content/test/53f253011.jpg\n",
            "/content/test/51b3e36ab.jpg\n",
            "/content/test/aac893a91.jpg\n",
            "/content/test/348a992bb.jpg\n",
            "/content/test/796707dd7.jpg\n",
            "/content/test/cc3532ff6.jpg\n",
            "/content/test/2fd875eaa.jpg\n",
            "/content/test/f5a1f0358.jpg\n",
            "/content/test/51f1be19e.jpg\n",
            "/content/test/cb8d261a3.jpg\n"
          ],
          "name": "stdout"
        }
      ]
    },
    {
      "cell_type": "code",
      "metadata": {
        "id": "5EDv1oUhR5VI",
        "colab_type": "code",
        "colab": {
          "base_uri": "https://localhost:8080/",
          "height": 185
        },
        "outputId": "698cb721-bf58-4007-857d-87c6ce1f6b63"
      },
      "source": [
        "# Safety measure to prevent yolo predictiong start after massive pushing Shift + Enter\n",
        "assert False"
      ],
      "execution_count": 74,
      "outputs": [
        {
          "output_type": "error",
          "ename": "AssertionError",
          "evalue": "ignored",
          "traceback": [
            "\u001b[0;31m---------------------------------------------------------------------------\u001b[0m",
            "\u001b[0;31mAssertionError\u001b[0m                            Traceback (most recent call last)",
            "\u001b[0;32m<ipython-input-74-8662fb5dc115>\u001b[0m in \u001b[0;36m<module>\u001b[0;34m()\u001b[0m\n\u001b[1;32m      1\u001b[0m \u001b[0;31m# Safety measure to prevent yolo predictiong start after massive pushing Shift + Enter\u001b[0m\u001b[0;34m\u001b[0m\u001b[0;34m\u001b[0m\u001b[0;34m\u001b[0m\u001b[0m\n\u001b[0;32m----> 2\u001b[0;31m \u001b[0;32massert\u001b[0m \u001b[0;32mFalse\u001b[0m\u001b[0;34m\u001b[0m\u001b[0;34m\u001b[0m\u001b[0m\n\u001b[0m",
            "\u001b[0;31mAssertionError\u001b[0m: "
          ]
        }
      ]
    },
    {
      "cell_type": "markdown",
      "metadata": {
        "id": "4wxpdNrsLw0A",
        "colab_type": "text"
      },
      "source": [
        "### Predict "
      ]
    },
    {
      "cell_type": "markdown",
      "metadata": {
        "id": "blXQmy4uPL8T",
        "colab_type": "text"
      },
      "source": [
        "First, let's make predictions for  only one hardcoded picture"
      ]
    },
    {
      "cell_type": "code",
      "metadata": {
        "id": "2YE1W-a5H0UP",
        "colab_type": "code",
        "colab": {}
      },
      "source": [
        "def predict_sample():\n",
        "    %cd /content/darknet\n",
        "    ! chmod 777 ./darknet\n",
        "\n",
        "    ! ./darknet detector test \\\n",
        "    /content/yolo_config_files/yolo.data \\\n",
        "    /content/yolo_config_files/yolov4.cfg \\\n",
        "    /content/yolov4_predict.weights \\\n",
        "    /content/test/2fd875eaa.jpg \n",
        "\n",
        "    image = cv2.imread('predictions.jpg')\n",
        "    image = cv2.resize(image, None, fx=0.5, fy=0.5)\n",
        "    cv2_imshow(image)"
      ],
      "execution_count": null,
      "outputs": []
    },
    {
      "cell_type": "code",
      "metadata": {
        "id": "C9J89n6xH7Hz",
        "colab_type": "code",
        "colab": {}
      },
      "source": [
        "# # check prediction sample\n",
        "# predict_sample()"
      ],
      "execution_count": null,
      "outputs": []
    },
    {
      "cell_type": "markdown",
      "metadata": {
        "id": "mTP_WQb7JRpz",
        "colab_type": "text"
      },
      "source": [
        "Boundary box generator for complete test dataset"
      ]
    },
    {
      "cell_type": "code",
      "metadata": {
        "id": "RlGm9KARPbi1",
        "colab_type": "code",
        "colab": {}
      },
      "source": [
        "def predict_bboxes():\n",
        "    # from https://groups.google.com/forum/#!topic/darknet/t6ZwxwHnIMo\n",
        "    %cd /content/darknet\n",
        "    ! chmod 777 ./darknet\n",
        "\n",
        "    ! ./darknet detector test \\\n",
        "    /content/yolo_config_files/yolo.data \\\n",
        "    /content/yolo_config_files/yolov4.cfg \\\n",
        "    /content/yolov4_predict.weights \\\n",
        "    -dont_show -ext_output < /content/yolo_config_files/predict.txt > log.txt\n"
      ],
      "execution_count": 89,
      "outputs": []
    },
    {
      "cell_type": "code",
      "metadata": {
        "id": "eMLV7JM-QQ0C",
        "colab_type": "code",
        "colab": {}
      },
      "source": [
        "%%capture\n",
        "predict_bboxes()"
      ],
      "execution_count": 91,
      "outputs": []
    },
    {
      "cell_type": "code",
      "metadata": {
        "id": "4YxFMp9NQ7kG",
        "colab_type": "code",
        "colab": {}
      },
      "source": [
        "# # Uncomment to see predictions file\n",
        "# ! cat /content/darknet/log.txt"
      ],
      "execution_count": 94,
      "outputs": []
    },
    {
      "cell_type": "code",
      "metadata": {
        "id": "2nG9Q05e95AH",
        "colab_type": "code",
        "colab": {}
      },
      "source": [
        ""
      ],
      "execution_count": null,
      "outputs": []
    },
    {
      "cell_type": "code",
      "metadata": {
        "id": "RV3WALgO95Fv",
        "colab_type": "code",
        "colab": {}
      },
      "source": [
        ""
      ],
      "execution_count": null,
      "outputs": []
    }
  ]
}